{
 "cells": [
  {
   "cell_type": "code",
   "execution_count": null,
   "metadata": {
    "vscode": {
     "languageId": "plaintext"
    }
   },
   "outputs": [],
   "source": [
    "import tensorflow as tf\n",
    "from tensorflow.keras.models import Sequential, Model\n",
    "from tensorflow.keras.layers import LSTM, Dense, RepeatVector, TimeDistributed, Dropout, Bidirectional\n",
    "from tensorflow.keras.layers import Input, LSTM, Dense, Embedding, Concatenate, TimeDistributed, Flatten, Reshape\n",
    "from tensorflow.keras.optimizers import Adam, AdamW\n",
    "from tensorflow.keras import backend as K\n",
    "import keras_tuner as kt\n",
    "from keras_tuner import HyperModel, RandomSearch, GridSearch\n",
    "import numpy as np\n",
    "import pandas as pd\n",
    "import keras\n",
    "from sklearn.preprocessing import StandardScaler, MinMaxScaler\n",
    "import joblib\n",
    "import plotly.graph_objects as go\n",
    "\n",
    "DATA_PATH = f'machine-learning/data/processed/'\n",
    "\n",
    "PARAMETER_GRID = {\n",
    "    'embedding_dim': 16,\n",
    "    'lstm_multiplier': 8,\n",
    "    'dropout_rate': 0.0942,\n",
    "    'initial_learning_rate': 0.000994,\n",
    "    'decay_offset': 0.1,\n",
    "    'decay_epochs': 15,\n",
    "    'decay_rate': 0.6,\n",
    "    'batch_size': 32,\n",
    "    'epochs': 1,\n",
    "}\n",
    "\n",
    "MODEL_NAME = 'LSTM V-0.1'"
   ]
  }
 ],
 "metadata": {
  "language_info": {
   "name": "python"
  }
 },
 "nbformat": 4,
 "nbformat_minor": 2
}
